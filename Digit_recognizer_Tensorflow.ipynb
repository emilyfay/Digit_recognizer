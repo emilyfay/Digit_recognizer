{
 "cells": [
  {
   "cell_type": "markdown",
   "metadata": {},
   "source": [
    "# Digit Recognizer using TensorFlow"
   ]
  },
  {
   "cell_type": "markdown",
   "metadata": {},
   "source": [
    "Here, I identify digits in the MNIST data using TensorFlow to build a neural network classifier. Based on tutorials provided on the TensorFlow website."
   ]
  },
  {
   "cell_type": "code",
   "execution_count": 139,
   "metadata": {
    "collapsed": true
   },
   "outputs": [],
   "source": [
    "import numpy as np\n",
    "import matplotlib.pyplot as plt\n",
    "import seaborn as sns\n",
    "import tensorflow as tf\n",
    "import time\n",
    "%matplotlib inline"
   ]
  },
  {
   "cell_type": "code",
   "execution_count": 140,
   "metadata": {
    "collapsed": false
   },
   "outputs": [],
   "source": [
    "training_digits = np.loadtxt('train.csv', delimiter = ',', skiprows = 1)\n"
   ]
  },
  {
   "cell_type": "code",
   "execution_count": 141,
   "metadata": {
    "collapsed": true
   },
   "outputs": [],
   "source": [
    "labels = training_digits[:,0]\n",
    "digit_data = (training_digits[:,1:]-128)/128"
   ]
  },
  {
   "cell_type": "markdown",
   "metadata": {},
   "source": [
    "Now, let's divide our data into a training set, a validation set, and a test set."
   ]
  },
  {
   "cell_type": "code",
   "execution_count": 142,
   "metadata": {
    "collapsed": false
   },
   "outputs": [],
   "source": [
    "train_length = int(len(labels)/2) \n",
    "valid_length = int(len(labels)/4)\n",
    "test_length = int(len(labels)-train_length-valid_length)\n",
    "train_data = digit_data[:train_length,:]\n",
    "train_labels = labels[:train_length]\n",
    "valid_data = digit_data[train_length:(train_length+valid_length),:]\n",
    "valid_labels = labels[train_length:(train_length+valid_length)]\n",
    "test_data = digit_data[(train_length+valid_length):,:]\n",
    "test_labels = labels[(train_length+valid_length):]\n"
   ]
  },
  {
   "cell_type": "markdown",
   "metadata": {},
   "source": [
    "Now that the data is loaded, we can check to see whether all digits are sufficiently represented in each of the datasets by plotting histograms:"
   ]
  },
  {
   "cell_type": "code",
   "execution_count": 143,
   "metadata": {
    "collapsed": false
   },
   "outputs": [
    {
     "data": {
      "image/png": "[encoded data removed]",
      "text/plain": [
       "<matplotlib.figure.Figure at 0x10f81a810>"
      ]
     },
     "metadata": {},
     "output_type": "display_data"
    }
   ],
   "source": [
    "plt.subplot(131)\n",
    "plt.hist(train_labels)\n",
    "plt.title('Training data')\n",
    "plt.xlabel('digit')\n",
    "plt.ylabel('Count')\n",
    "plt.subplot(132)\n",
    "plt.hist(valid_labels)\n",
    "plt.title('Validation data')\n",
    "plt.xlabel('digit')\n",
    "plt.subplot(133)\n",
    "plt.hist(test_labels)\n",
    "plt.title('Test data')\n",
    "plt.xlabel('digit')\n",
    "plt.show()\n"
   ]
  },
  {
   "cell_type": "markdown",
   "metadata": {},
   "source": [
    "Great, it looks like we have a fairly even distribution of digits in each set."
   ]
  },
  {
   "cell_type": "markdown",
   "metadata": {},
   "source": [
    "We need to reformat the digit labels into 1-hot encodings:"
   ]
  },
  {
   "cell_type": "code",
   "execution_count": 144,
   "metadata": {
    "collapsed": false
   },
   "outputs": [],
   "source": [
    "num_labels = 10\n",
    "def reformat(labels):\n",
    "    labels = (np.arange(num_labels)==labels[:,None]).astype(np.float32)\n",
    "    return labels\n",
    "\n",
    "train_labels1h = reformat(train_labels)\n",
    "valid_labels1h = reformat(valid_labels)\n",
    "test_labels1h = reformat(test_labels)"
   ]
  },
  {
   "cell_type": "markdown",
   "metadata": {},
   "source": [
    "We'll start by building a model with a single hidden layer with 1024 nodes. We'll use a stochastic gradient descent algorithm, where gradient descent optimization is applied for a batch of the training data, and this process is repeated many times, with the idea being that we gradually approach the true minima for the training dataset."
   ]
  },
  {
   "cell_type": "code",
   "execution_count": 145,
   "metadata": {
    "collapsed": false
   },
   "outputs": [],
   "source": [
    "batch_size = 150\n",
    "datasize = 28*28\n",
    "hidden1_units = 1024\n",
    "\n",
    "\n",
    "graph = tf.Graph()\n",
    "\n",
    "with graph.as_default():\n",
    "    #Input data, with placeholders for running batches of training data\n",
    "    tf_train_data = tf.placeholder(tf.float32, shape = (batch_size, datasize))\n",
    "    tf_train_labels = tf.placeholder(tf.float32, shape = (batch_size, num_labels))\n",
    "    tf_valid_data = tf.constant(np.float32(valid_data))\n",
    "    tf_test_data = tf.constant(np.float32(test_data))    \n",
    "    \n",
    "    # weights and biases for hidden layer\n",
    "    h1weights = tf.Variable(tf.truncated_normal([datasize, hidden1_units]))\n",
    "    h1biases = tf.Variable(tf.zeros([hidden1_units]))\n",
    "\n",
    "    hidden1 = tf.nn.relu(tf.matmul(tf_train_data,h1weights)+h1biases)\n",
    "    \n",
    "    # weights and biases for linear outer layer\n",
    "    weights = tf.Variable(tf.truncated_normal([hidden1_units, num_labels]))\n",
    "    biases = tf.Variable(tf.zeros([num_labels]))\n",
    "        \n",
    "    logits = tf.matmul(hidden1, weights)+biases\n",
    "\n",
    "    loss = tf.reduce_mean(tf.nn.softmax_cross_entropy_with_logits(logits, tf_train_labels))\n",
    "    \n",
    "    optimizer = tf.train.GradientDescentOptimizer(learning_rate).minimize(loss)\n",
    "    \n",
    "    train_predict = tf.nn.softmax(logits)\n",
    "    h1valid = tf.nn.relu(tf.matmul(tf_valid_data, h1weights)+h1biases)\n",
    "    valid_predict = tf.nn.softmax(tf.matmul(h1valid, weights)+biases)\n",
    "   \n"
   ]
  },
  {
   "cell_type": "code",
   "execution_count": 146,
   "metadata": {
    "collapsed": true
   },
   "outputs": [],
   "source": [
    "def accuracy(predictions, labels):\n",
    "    return(100.0 * np.sum(np.argmax(predictions, 1 )== np.argmax(labels, 1))\n",
    "           /predictions.shape[0])"
   ]
  },
  {
   "cell_type": "code",
   "execution_count": 148,
   "metadata": {
    "collapsed": false
   },
   "outputs": [
    {
     "name": "stdout",
     "output_type": "stream",
     "text": [
      "Initialized\n",
      "Batch loss at step 0: 523.622803\n",
      "Batch accuracy: 8.0%\n",
      "Validation accuracy: 8.4%\n",
      "Batch loss at step 500: 24.087427\n",
      "Batch accuracy: 82.0%\n",
      "Validation accuracy: 81.3%\n",
      "Batch loss at step 1000: 12.688529\n",
      "Batch accuracy: 86.7%\n",
      "Validation accuracy: 84.7%\n",
      "Batch loss at step 1500: 9.298770\n",
      "Batch accuracy: 90.0%\n",
      "Validation accuracy: 86.4%\n",
      "Batch loss at step 2000: 16.313620\n",
      "Batch accuracy: 87.3%\n",
      "Validation accuracy: 87.3%\n",
      "Batch loss at step 2500: 8.175518\n",
      "Batch accuracy: 92.7%\n",
      "Validation accuracy: 87.9%\n",
      "Batch loss at step 3000: 7.089914\n",
      "Batch accuracy: 90.7%\n",
      "Validation accuracy: 88.2%\n",
      "Batch loss at step 3500: 5.984041\n",
      "Batch accuracy: 88.7%\n",
      "Validation accuracy: 88.5%\n",
      "Batch loss at step 4000: 7.540378\n",
      "Batch accuracy: 94.7%\n",
      "Validation accuracy: 88.9%\n",
      "Batch loss at step 4500: 5.392471\n",
      "Batch accuracy: 88.7%\n",
      "Validation accuracy: 89.1%\n",
      "Batch loss at step 5000: 7.301492\n",
      "Batch accuracy: 92.7%\n",
      "Validation accuracy: 89.1%\n"
     ]
    }
   ],
   "source": [
    "num_steps = 5001\n",
    "learning_rate = 0.1\n",
    "\n",
    "with tf.Session(graph = graph) as session:\n",
    "    tf.initialize_all_variables().run()\n",
    "    print('Initialized')\n",
    "    for step in range(num_steps):\n",
    "        start_time = time.time()\n",
    "        \n",
    "        offset = (step * batch_size)%(train_labels1h.shape[0]-batch_size)\n",
    "        batch_data = train_data[offset:(offset+batch_size),:]\n",
    "        batch_labels = train_labels1h[offset:(offset+batch_size),:]\n",
    "        feed_dict = {\n",
    "            tf_train_data : batch_data, \n",
    "            tf_train_labels : batch_labels}\n",
    "        _, l, predictions = session.run( [optimizer, loss, train_predict], feed_dict)\n",
    "        \n",
    "        if (step % 100 == 0) and (step > 100): learning_rate = learning_rate / 1.1\n",
    "            \n",
    "        if (step % 500 == 0):\n",
    "            print(\"Batch loss at step %d: %f\" % (step, l))\n",
    "            print(\"Batch accuracy: %.1f%%\" % accuracy(predictions, batch_labels))\n",
    "            print('Validation accuracy: %.1f%%' % accuracy(valid_predict.eval(), valid_labels1h))\n",
    "        \n",
    "        \n",
    "    "
   ]
  },
  {
   "cell_type": "code",
   "execution_count": null,
   "metadata": {
    "collapsed": true
   },
   "outputs": [],
   "source": []
  }
 ],
 "metadata": {
  "kernelspec": {
   "display_name": "Python 2",
   "language": "python",
   "name": "python2"
  },
  "language_info": {
   "codemirror_mode": {
    "name": "ipython",
    "version": 2
   },
   "file_extension": ".py",
   "mimetype": "text/x-python",
   "name": "python",
   "nbconvert_exporter": "python",
   "pygments_lexer": "ipython2",
   "version": "2.7.11"
  }
 },
 "nbformat": 4,
 "nbformat_minor": 0
}
